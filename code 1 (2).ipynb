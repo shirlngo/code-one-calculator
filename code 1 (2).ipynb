{
 "cells": [
  {
   "cell_type": "code",
   "execution_count": 4,
   "id": "379a709c",
   "metadata": {},
   "outputs": [
    {
     "name": "stdout",
     "output_type": "stream",
     "text": [
      "Population: 1780000\n",
      "Existing cases: 99\n",
      "5.5617977528089886e-05\n",
      "5.561797752808989\n"
     ]
    }
   ],
   "source": [
    "# prevalence-quesiton-one\n",
    "population = int(input(\"Population: \"))\n",
    "existingcases = int(input(\"Existing cases: \"))\n",
    "prevalence = existingcases / population\n",
    "print(prevalence)\n",
    "print(prevalence*100000)"
   ]
  },
  {
   "cell_type": "code",
   "execution_count": 3,
   "id": "4326a578",
   "metadata": {},
   "outputs": [
    {
     "name": "stdout",
     "output_type": "stream",
     "text": [
      "New cases: 19\n",
      "1.0674157303370787e-05\n",
      "1.0674157303370786\n"
     ]
    }
   ],
   "source": [
    "# incidence-question-one\n",
    "newcases = int(input(\"New cases: \"))\n",
    "incidence = newcases / population\n",
    "print(incidence)\n",
    "print(incidence * 100000)"
   ]
  },
  {
   "cell_type": "code",
   "execution_count": 2,
   "id": "fdd813c0",
   "metadata": {},
   "outputs": [
    {
     "name": "stdout",
     "output_type": "stream",
     "text": [
      "Number of those who died: 2\n",
      "Number of those who had the disease: 99\n",
      "0.020202020202020204\n",
      "2020.2020202020203\n"
     ]
    }
   ],
   "source": [
    "# mortality rate-question-one\n",
    "dead = int(input(\"Number of those who died: \"))\n",
    "segment = int(input(\"Number of those who had the disease: \"))\n",
    "mortalityrate = dead / segment \n",
    "print(mortalityrate)\n",
    "print(mortalityrate * 100000)"
   ]
  },
  {
   "cell_type": "code",
   "execution_count": 3,
   "id": "cdcf91e5",
   "metadata": {},
   "outputs": [
    {
     "name": "stdout",
     "output_type": "stream",
     "text": [
      "13\n",
      "3\n"
     ]
    }
   ],
   "source": [
    "# years of potential life loss-question-one\n",
    "lifeexpectancy = 77\n",
    "ages = [64, 74]\n",
    "print(lifeexpectancy - ages[0])\n",
    "print(lifeexpectancy - ages[1])"
   ]
  },
  {
   "cell_type": "code",
   "execution_count": 6,
   "id": "f7e2f7cf",
   "metadata": {},
   "outputs": [
    {
     "name": "stdout",
     "output_type": "stream",
     "text": [
      "8.0\n"
     ]
    }
   ],
   "source": [
    "lifelost = [13,3]\n",
    "yppl = sum(lifelost) / len(lifelost)\n",
    "print(yppl)"
   ]
  },
  {
   "cell_type": "code",
   "execution_count": 3,
   "id": "e78d1050",
   "metadata": {},
   "outputs": [
    {
     "name": "stdout",
     "output_type": "stream",
     "text": [
      "Population: 2660000\n",
      "Existing cases: 1459\n",
      "0.0005484962406015038\n",
      "54.849624060150376\n"
     ]
    }
   ],
   "source": [
    "# prevalence-question-two\n",
    "population = int(input(\"Population: \"))\n",
    "existingcases = int(input(\"Existing cases: \"))\n",
    "prevalence = existingcases / population\n",
    "print(prevalence)\n",
    "print(prevalence * 100000)"
   ]
  },
  {
   "cell_type": "code",
   "execution_count": 4,
   "id": "f43282de",
   "metadata": {},
   "outputs": [
    {
     "name": "stdout",
     "output_type": "stream",
     "text": [
      "New cases: 248\n",
      "Population: 2660000\n",
      "9.323308270676691e-05\n",
      "9.32330827067669\n"
     ]
    }
   ],
   "source": [
    "# incidence-question-two\n",
    "newcases = int(input(\"New cases: \"))\n",
    "population = int(input(\"Population: \"))\n",
    "incidence = newcases / population\n",
    "print(incidence)\n",
    "print(incidence * 100000)"
   ]
  },
  {
   "cell_type": "code",
   "execution_count": 9,
   "id": "adcb5e06",
   "metadata": {},
   "outputs": [
    {
     "name": "stdout",
     "output_type": "stream",
     "text": [
      "Number of those who died: 1\n",
      "Number of those who had the disease: 1459\n",
      "0.0006854009595613434\n",
      "68.54009595613434\n"
     ]
    }
   ],
   "source": [
    "# mortality rate-question-two\n",
    "dead = int(input(\"Number of those who died: \"))\n",
    "segment = int(input(\"Number of those who had the disease: \"))\n",
    "mortalityrate = dead / segment\n",
    "print(mortalityrate)\n",
    "print(mortalityrate * 100000)"
   ]
  },
  {
   "cell_type": "code",
   "execution_count": 6,
   "id": "a8fd874b",
   "metadata": {},
   "outputs": [
    {
     "name": "stdout",
     "output_type": "stream",
     "text": [
      "Population: 100000\n",
      "Existing cases: 3000\n",
      "0.03\n",
      "3000.0\n"
     ]
    }
   ],
   "source": [
    "# prevalence-question-three\n",
    "population = int(input(\"Population: \"))\n",
    "existingcases = int(input(\"Existing cases: \"))\n",
    "prevalence = existingcases / population \n",
    "print(prevalence)\n",
    "print(prevalence * 100000)"
   ]
  },
  {
   "cell_type": "code",
   "execution_count": 7,
   "id": "df06d060",
   "metadata": {},
   "outputs": [
    {
     "name": "stdout",
     "output_type": "stream",
     "text": [
      "New cases: 2500\n",
      "Population: 100000\n",
      "0.025\n",
      "2500.0\n"
     ]
    }
   ],
   "source": [
    "# incidence-question-three\n",
    "newcases = int(input(\"New cases: \"))\n",
    "population = int(input(\"Population: \"))\n",
    "incidence = newcases / population\n",
    "print(incidence)\n",
    "print(incidence * 100000)"
   ]
  },
  {
   "cell_type": "code",
   "execution_count": 6,
   "id": "a36f3d22",
   "metadata": {},
   "outputs": [
    {
     "name": "stdout",
     "output_type": "stream",
     "text": [
      "Number of those who died: 40\n",
      "Number of those who had the disease: 3000\n",
      "0.013333333333333334\n",
      "1333.3333333333335\n"
     ]
    }
   ],
   "source": [
    "# mortality rate-question-three\n",
    "dead = int(input(\"Number of those who died: \"))\n",
    "segment = int(input(\"Number of those who had the disease: \"))\n",
    "mortalityrate = dead / segment\n",
    "print(mortalityrate)\n",
    "print(mortalityrate * 100000)"
   ]
  },
  {
   "cell_type": "code",
   "execution_count": 1,
   "id": "c5288567",
   "metadata": {},
   "outputs": [
    {
     "name": "stdout",
     "output_type": "stream",
     "text": [
      "Population: 1780000\n",
      "Existing cases: 15000\n",
      "0.008426966292134831\n",
      "842.6966292134831\n"
     ]
    }
   ],
   "source": [
    "# prevalence-question-four\n",
    "population = int(input(\"Population: \"))\n",
    "existingcases = int(input(\"Existing cases: \"))\n",
    "prevalence = existingcases / population\n",
    "print(prevalence)\n",
    "print(prevalence * 100000)"
   ]
  },
  {
   "cell_type": "code",
   "execution_count": 2,
   "id": "5147e869",
   "metadata": {},
   "outputs": [
    {
     "name": "stdout",
     "output_type": "stream",
     "text": [
      "New cases: 3000\n",
      "Population: 1780000\n",
      "0.0016853932584269663\n",
      "168.53932584269663\n"
     ]
    }
   ],
   "source": [
    "# incidence-quesiton-four\n",
    "newcases = int(input(\"New cases: \"))\n",
    "population = int(input(\"Population: \"))\n",
    "incidence = newcases / population\n",
    "print(incidence)\n",
    "print(incidence * 100000)"
   ]
  },
  {
   "cell_type": "code",
   "execution_count": 3,
   "id": "b70cc68c",
   "metadata": {},
   "outputs": [
    {
     "name": "stdout",
     "output_type": "stream",
     "text": [
      "Number of those who died: 5\n",
      "Number of those who had the disease: 15000\n",
      "0.0003333333333333333\n",
      "33.333333333333336\n"
     ]
    }
   ],
   "source": [
    "# mortality rate-quesiton-four\n",
    "dead = int(input(\"Number of those who died: \"))\n",
    "segment = int(input(\"Number of those who had the disease: \"))\n",
    "mortalityrate = dead / segment\n",
    "print(mortalityrate)\n",
    "print(mortalityrate * 100000)"
   ]
  },
  {
   "cell_type": "code",
   "execution_count": 4,
   "id": "a5c360ed",
   "metadata": {},
   "outputs": [
    {
     "name": "stdout",
     "output_type": "stream",
     "text": [
      "45\n",
      "32\n",
      "49\n",
      "40\n",
      "25\n"
     ]
    }
   ],
   "source": [
    "# years of potential life lost-question-four\n",
    "lifeexpectancy = 77\n",
    "ages = [32, 45, 28, 37, 52]\n",
    "print(lifeexpectancy - ages[0])\n",
    "print(lifeexpectancy - ages[1])\n",
    "print(lifeexpectancy - ages[2])\n",
    "print(lifeexpectancy - ages[3])\n",
    "print(lifeexpectancy - ages[4])"
   ]
  },
  {
   "cell_type": "code",
   "execution_count": 5,
   "id": "5e135153",
   "metadata": {},
   "outputs": [
    {
     "name": "stdout",
     "output_type": "stream",
     "text": [
      "38.2\n"
     ]
    }
   ],
   "source": [
    "lifelost = [45, 32, 49, 40, 25]\n",
    "yppl = sum(lifelost) / len(lifelost)\n",
    "print(yppl)"
   ]
  },
  {
   "cell_type": "code",
   "execution_count": null,
   "id": "618abf2b",
   "metadata": {},
   "outputs": [],
   "source": []
  }
 ],
 "metadata": {
  "kernelspec": {
   "display_name": "Python 3 (ipykernel)",
   "language": "python",
   "name": "python3"
  },
  "language_info": {
   "codemirror_mode": {
    "name": "ipython",
    "version": 3
   },
   "file_extension": ".py",
   "mimetype": "text/x-python",
   "name": "python",
   "nbconvert_exporter": "python",
   "pygments_lexer": "ipython3",
   "version": "3.11.4"
  }
 },
 "nbformat": 4,
 "nbformat_minor": 5
}
